{
 "cells": [
  {
   "cell_type": "markdown",
   "id": "448717c2",
   "metadata": {},
   "source": [
    "The pmf of a binomial distribution is given by:\n",
    "\n",
    "P(X = k) = (n choose k) p^k (1-p)^(n-k)\n",
    "\n",
    "By the binomial coefficient:\n",
    "\n",
    "P(X = k) = n! / (k!(n-k)!) * p^k * (1-p)^(n-k)\n",
    "\n",
    "Using Stirling's approximation for factorials:\n",
    "\n",
    "P(X = k) ≈ √(2πn) / (√(2πk) * √(2π(n-k))) * (n/e)^n * (1/e)^(n-k) * p^k * (1-p)^(n-k)\n",
    "\n",
    "WTS that as n approaches ∞ and p approaches 0 such that np → λ, the pmf of the binomial distribution approaches the pmf of the poisson distribution:\n",
    "\n",
    "P(Y = k) = e^(-λ) * λ^k / k!\n",
    "\n",
    "By λ = np:\n",
    "\n",
    "P(Y = k) = e^(-np) * (np)^k / k!\n",
    "\n",
    "The limit as n approaches ∞ and p approaches 0:\n",
    "\n",
    "(1-p)^(n-k) approaches 1 as n approaches ∞ and p approaches 0, since (1-p) is close to 1 and the exponent n-k goes to infinity.\n",
    "\n",
    "(n/e)^n approaches 1 as n approaches ∞, since the exponent n goes to infinity and the base n/e is close to 1.\n",
    "\n",
    "(1/e)^(n-k) approaches 0 as n approaches ∞ and p approaches 0, since (1/e) is close to 0 and the exponent n-k goes to infinity.\n",
    "\n",
    "(n choose k) approaches 1 as n approaches ∞ and p approaches 0, since the binomial coefficient (n choose k) is bounded by 1 and the numerator and denominator both go to infinity.\n",
    "\n",
    "Using these facts, we can simplify the expression for P(X = k) as follows:\n",
    "\n",
    "P(X = k) ≈ √(2πn) / (√(2πk) * √(2π(n-k))) * (n/e)^n * p^k * (1-p)^(n-k)\n",
    "\n",
    "P(X = k) ≈ √(2πn) / (√(2πk) * √(2π(n-k))) * (np)^k * e^(-np)\n",
    "\n",
    "P(X = k) ≈ e^(-np) * (np)^k / k!\n",
    "\n",
    "Q.E.D."
   ]
  }
 ],
 "metadata": {
  "kernelspec": {
   "display_name": "Python 3 (ipykernel)",
   "language": "python",
   "name": "python3"
  },
  "language_info": {
   "codemirror_mode": {
    "name": "ipython",
    "version": 3
   },
   "file_extension": ".py",
   "mimetype": "text/x-python",
   "name": "python",
   "nbconvert_exporter": "python",
   "pygments_lexer": "ipython3",
   "version": "3.9.13"
  }
 },
 "nbformat": 4,
 "nbformat_minor": 5
}
